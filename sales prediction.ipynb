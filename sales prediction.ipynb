{
 "cells": [
  {
   "cell_type": "code",
   "execution_count": 1,
   "id": "fc3ddf00",
   "metadata": {},
   "outputs": [],
   "source": [
    "import pandas as pd\n",
    "import numpy as np\n",
    "import warnings\n",
    "warnings.filterwarnings('ignore')"
   ]
  },
  {
   "cell_type": "code",
   "execution_count": 2,
   "id": "d651acf8",
   "metadata": {},
   "outputs": [
    {
     "data": {
      "text/html": [
       "<div>\n",
       "<style scoped>\n",
       "    .dataframe tbody tr th:only-of-type {\n",
       "        vertical-align: middle;\n",
       "    }\n",
       "\n",
       "    .dataframe tbody tr th {\n",
       "        vertical-align: top;\n",
       "    }\n",
       "\n",
       "    .dataframe thead th {\n",
       "        text-align: right;\n",
       "    }\n",
       "</style>\n",
       "<table border=\"1\" class=\"dataframe\">\n",
       "  <thead>\n",
       "    <tr style=\"text-align: right;\">\n",
       "      <th></th>\n",
       "      <th>Unnamed: 0</th>\n",
       "      <th>TV</th>\n",
       "      <th>radio</th>\n",
       "      <th>newspaper</th>\n",
       "      <th>sales</th>\n",
       "    </tr>\n",
       "  </thead>\n",
       "  <tbody>\n",
       "    <tr>\n",
       "      <th>0</th>\n",
       "      <td>1</td>\n",
       "      <td>230.1</td>\n",
       "      <td>37.8</td>\n",
       "      <td>69.2</td>\n",
       "      <td>22.1</td>\n",
       "    </tr>\n",
       "    <tr>\n",
       "      <th>1</th>\n",
       "      <td>2</td>\n",
       "      <td>44.5</td>\n",
       "      <td>39.3</td>\n",
       "      <td>45.1</td>\n",
       "      <td>10.4</td>\n",
       "    </tr>\n",
       "    <tr>\n",
       "      <th>2</th>\n",
       "      <td>3</td>\n",
       "      <td>17.2</td>\n",
       "      <td>45.9</td>\n",
       "      <td>69.3</td>\n",
       "      <td>9.3</td>\n",
       "    </tr>\n",
       "    <tr>\n",
       "      <th>3</th>\n",
       "      <td>4</td>\n",
       "      <td>151.5</td>\n",
       "      <td>41.3</td>\n",
       "      <td>58.5</td>\n",
       "      <td>18.5</td>\n",
       "    </tr>\n",
       "    <tr>\n",
       "      <th>4</th>\n",
       "      <td>5</td>\n",
       "      <td>180.8</td>\n",
       "      <td>10.8</td>\n",
       "      <td>58.4</td>\n",
       "      <td>12.9</td>\n",
       "    </tr>\n",
       "  </tbody>\n",
       "</table>\n",
       "</div>"
      ],
      "text/plain": [
       "   Unnamed: 0     TV  radio  newspaper  sales\n",
       "0           1  230.1   37.8       69.2   22.1\n",
       "1           2   44.5   39.3       45.1   10.4\n",
       "2           3   17.2   45.9       69.3    9.3\n",
       "3           4  151.5   41.3       58.5   18.5\n",
       "4           5  180.8   10.8       58.4   12.9"
      ]
     },
     "execution_count": 2,
     "metadata": {},
     "output_type": "execute_result"
    }
   ],
   "source": [
    "data=pd.read_csv(r'C:\\Users\\Aditya\\OneDrive\\Desktop\\Advertising_practice.csv')\n",
    "data.head()"
   ]
  },
  {
   "cell_type": "code",
   "execution_count": 3,
   "id": "de8f9965",
   "metadata": {},
   "outputs": [
    {
     "data": {
      "text/plain": [
       "(200, 5)"
      ]
     },
     "execution_count": 3,
     "metadata": {},
     "output_type": "execute_result"
    }
   ],
   "source": [
    "data.shape"
   ]
  },
  {
   "cell_type": "code",
   "execution_count": 4,
   "id": "78ef479a",
   "metadata": {},
   "outputs": [
    {
     "data": {
      "text/plain": [
       "Unnamed: 0    0\n",
       "TV            0\n",
       "radio         0\n",
       "newspaper     0\n",
       "sales         0\n",
       "dtype: int64"
      ]
     },
     "execution_count": 4,
     "metadata": {},
     "output_type": "execute_result"
    }
   ],
   "source": [
    "data.isnull().sum()"
   ]
  },
  {
   "cell_type": "markdown",
   "id": "ef554407",
   "metadata": {},
   "source": [
    "no null values are present in the data set, this data set is pretty clear from null values "
   ]
  },
  {
   "cell_type": "code",
   "execution_count": 5,
   "id": "ecfd4e76",
   "metadata": {},
   "outputs": [
    {
     "name": "stdout",
     "output_type": "stream",
     "text": [
      "<class 'pandas.core.frame.DataFrame'>\n",
      "RangeIndex: 200 entries, 0 to 199\n",
      "Data columns (total 5 columns):\n",
      " #   Column      Non-Null Count  Dtype  \n",
      "---  ------      --------------  -----  \n",
      " 0   Unnamed: 0  200 non-null    int64  \n",
      " 1   TV          200 non-null    float64\n",
      " 2   radio       200 non-null    float64\n",
      " 3   newspaper   200 non-null    float64\n",
      " 4   sales       200 non-null    float64\n",
      "dtypes: float64(4), int64(1)\n",
      "memory usage: 7.9 KB\n"
     ]
    }
   ],
   "source": [
    "data.info()"
   ]
  },
  {
   "cell_type": "markdown",
   "id": "aa34fed9",
   "metadata": {},
   "source": [
    "data set has continous data,we need not to convert anything to any type   "
   ]
  },
  {
   "cell_type": "code",
   "execution_count": 6,
   "id": "a73d84c3",
   "metadata": {},
   "outputs": [],
   "source": [
    "#Unnamed: 0 is a feature which acts like an index it not gives any information regarding the target variable\n",
    "data.drop(columns=['Unnamed: 0'],axis=1,inplace=True)"
   ]
  },
  {
   "cell_type": "code",
   "execution_count": 7,
   "id": "f5d0adbd",
   "metadata": {},
   "outputs": [
    {
     "data": {
      "text/html": [
       "<div>\n",
       "<style scoped>\n",
       "    .dataframe tbody tr th:only-of-type {\n",
       "        vertical-align: middle;\n",
       "    }\n",
       "\n",
       "    .dataframe tbody tr th {\n",
       "        vertical-align: top;\n",
       "    }\n",
       "\n",
       "    .dataframe thead th {\n",
       "        text-align: right;\n",
       "    }\n",
       "</style>\n",
       "<table border=\"1\" class=\"dataframe\">\n",
       "  <thead>\n",
       "    <tr style=\"text-align: right;\">\n",
       "      <th></th>\n",
       "      <th>TV</th>\n",
       "      <th>radio</th>\n",
       "      <th>newspaper</th>\n",
       "      <th>sales</th>\n",
       "    </tr>\n",
       "  </thead>\n",
       "  <tbody>\n",
       "    <tr>\n",
       "      <th>0</th>\n",
       "      <td>230.1</td>\n",
       "      <td>37.8</td>\n",
       "      <td>69.2</td>\n",
       "      <td>22.1</td>\n",
       "    </tr>\n",
       "    <tr>\n",
       "      <th>1</th>\n",
       "      <td>44.5</td>\n",
       "      <td>39.3</td>\n",
       "      <td>45.1</td>\n",
       "      <td>10.4</td>\n",
       "    </tr>\n",
       "    <tr>\n",
       "      <th>2</th>\n",
       "      <td>17.2</td>\n",
       "      <td>45.9</td>\n",
       "      <td>69.3</td>\n",
       "      <td>9.3</td>\n",
       "    </tr>\n",
       "    <tr>\n",
       "      <th>3</th>\n",
       "      <td>151.5</td>\n",
       "      <td>41.3</td>\n",
       "      <td>58.5</td>\n",
       "      <td>18.5</td>\n",
       "    </tr>\n",
       "    <tr>\n",
       "      <th>4</th>\n",
       "      <td>180.8</td>\n",
       "      <td>10.8</td>\n",
       "      <td>58.4</td>\n",
       "      <td>12.9</td>\n",
       "    </tr>\n",
       "  </tbody>\n",
       "</table>\n",
       "</div>"
      ],
      "text/plain": [
       "      TV  radio  newspaper  sales\n",
       "0  230.1   37.8       69.2   22.1\n",
       "1   44.5   39.3       45.1   10.4\n",
       "2   17.2   45.9       69.3    9.3\n",
       "3  151.5   41.3       58.5   18.5\n",
       "4  180.8   10.8       58.4   12.9"
      ]
     },
     "execution_count": 7,
     "metadata": {},
     "output_type": "execute_result"
    }
   ],
   "source": [
    "data.head()"
   ]
  },
  {
   "cell_type": "code",
   "execution_count": 8,
   "id": "f0f21ee0",
   "metadata": {},
   "outputs": [
    {
     "data": {
      "text/html": [
       "<div>\n",
       "<style scoped>\n",
       "    .dataframe tbody tr th:only-of-type {\n",
       "        vertical-align: middle;\n",
       "    }\n",
       "\n",
       "    .dataframe tbody tr th {\n",
       "        vertical-align: top;\n",
       "    }\n",
       "\n",
       "    .dataframe thead th {\n",
       "        text-align: right;\n",
       "    }\n",
       "</style>\n",
       "<table border=\"1\" class=\"dataframe\">\n",
       "  <thead>\n",
       "    <tr style=\"text-align: right;\">\n",
       "      <th></th>\n",
       "      <th>TV</th>\n",
       "      <th>radio</th>\n",
       "      <th>newspaper</th>\n",
       "      <th>sales</th>\n",
       "    </tr>\n",
       "  </thead>\n",
       "  <tbody>\n",
       "    <tr>\n",
       "      <th>count</th>\n",
       "      <td>200.000000</td>\n",
       "      <td>200.000000</td>\n",
       "      <td>200.000000</td>\n",
       "      <td>200.000000</td>\n",
       "    </tr>\n",
       "    <tr>\n",
       "      <th>mean</th>\n",
       "      <td>147.042500</td>\n",
       "      <td>23.264000</td>\n",
       "      <td>30.554000</td>\n",
       "      <td>14.022500</td>\n",
       "    </tr>\n",
       "    <tr>\n",
       "      <th>std</th>\n",
       "      <td>85.854236</td>\n",
       "      <td>14.846809</td>\n",
       "      <td>21.778621</td>\n",
       "      <td>5.217457</td>\n",
       "    </tr>\n",
       "    <tr>\n",
       "      <th>min</th>\n",
       "      <td>0.700000</td>\n",
       "      <td>0.000000</td>\n",
       "      <td>0.300000</td>\n",
       "      <td>1.600000</td>\n",
       "    </tr>\n",
       "    <tr>\n",
       "      <th>25%</th>\n",
       "      <td>74.375000</td>\n",
       "      <td>9.975000</td>\n",
       "      <td>12.750000</td>\n",
       "      <td>10.375000</td>\n",
       "    </tr>\n",
       "    <tr>\n",
       "      <th>50%</th>\n",
       "      <td>149.750000</td>\n",
       "      <td>22.900000</td>\n",
       "      <td>25.750000</td>\n",
       "      <td>12.900000</td>\n",
       "    </tr>\n",
       "    <tr>\n",
       "      <th>75%</th>\n",
       "      <td>218.825000</td>\n",
       "      <td>36.525000</td>\n",
       "      <td>45.100000</td>\n",
       "      <td>17.400000</td>\n",
       "    </tr>\n",
       "    <tr>\n",
       "      <th>max</th>\n",
       "      <td>296.400000</td>\n",
       "      <td>49.600000</td>\n",
       "      <td>114.000000</td>\n",
       "      <td>27.000000</td>\n",
       "    </tr>\n",
       "  </tbody>\n",
       "</table>\n",
       "</div>"
      ],
      "text/plain": [
       "               TV       radio   newspaper       sales\n",
       "count  200.000000  200.000000  200.000000  200.000000\n",
       "mean   147.042500   23.264000   30.554000   14.022500\n",
       "std     85.854236   14.846809   21.778621    5.217457\n",
       "min      0.700000    0.000000    0.300000    1.600000\n",
       "25%     74.375000    9.975000   12.750000   10.375000\n",
       "50%    149.750000   22.900000   25.750000   12.900000\n",
       "75%    218.825000   36.525000   45.100000   17.400000\n",
       "max    296.400000   49.600000  114.000000   27.000000"
      ]
     },
     "execution_count": 8,
     "metadata": {},
     "output_type": "execute_result"
    }
   ],
   "source": [
    "data.describe()"
   ]
  },
  {
   "cell_type": "code",
   "execution_count": 9,
   "id": "22c87744",
   "metadata": {},
   "outputs": [
    {
     "data": {
      "text/plain": [
       "0"
      ]
     },
     "execution_count": 9,
     "metadata": {},
     "output_type": "execute_result"
    }
   ],
   "source": [
    "duplicate=data.duplicated()\n",
    "duplicate.sum()"
   ]
  },
  {
   "cell_type": "code",
   "execution_count": 10,
   "id": "fad8e097",
   "metadata": {},
   "outputs": [],
   "source": [
    "import matplotlib.pyplot as plt\n",
    "import seaborn as sns"
   ]
  },
  {
   "cell_type": "code",
   "execution_count": 13,
   "id": "60180208",
   "metadata": {},
   "outputs": [
    {
     "data": {
      "image/png": "[encoded data removed]",
      "text/plain": [
       "<Figure size 432x288 with 1 Axes>"
      ]
     },
     "metadata": {
      "needs_background": "light"
     },
     "output_type": "display_data"
    }
   ],
   "source": [
    "plt.scatter(x='TV', y='sales',data=data)\n",
    "plt.xlabel('TV')\n",
    "plt.ylabel('sales')\n",
    "plt.title('Tv vs sales')\n",
    "plt.show()"
   ]
  },
  {
   "cell_type": "code",
   "execution_count": null,
   "id": "91877467",
   "metadata": {},
   "outputs": [],
   "source": []
  },
  {
   "cell_type": "code",
   "execution_count": 11,
   "id": "a4f49758",
   "metadata": {},
   "outputs": [
    {
     "data": {
      "image/png": "[encoded data removed]",
      "text/plain": [
       "<Figure size 1152x576 with 3 Axes>"
      ]
     },
     "metadata": {
      "needs_background": "light"
     },
     "output_type": "display_data"
    }
   ],
   "source": [
    "plt.figure(figsize=(16,8))\n",
    "plt.subplot(2,2,1)\n",
    "plt.scatter(x='TV',y='sales',data=data,color='green')\n",
    "plt.xlabel('TV')\n",
    "plt.ylabel('sales')\n",
    "plt.title('TV vs sales')\n",
    "plt.subplot(2,2,1)\n",
    "\n",
    "plt.subplot(2,2,2)\n",
    "plt.scatter(x='radio',y='sales',data=data)\n",
    "plt.xlabel('radio')\n",
    "plt.ylabel('sales')\n",
    "plt.title('radio vs sales')\n",
    "plt.subplot(2,2,1)\n",
    "\n",
    "plt.subplot(2,2,3)\n",
    "plt.scatter(x='newspaper',y='sales',data=data,color='red')\n",
    "plt.xlabel('newspaper')\n",
    "plt.ylabel('sales')\n",
    "plt.title('newspaper vs sales')\n",
    "plt.subplot(2,2,1)\n",
    "\n",
    "\n",
    "\n",
    "plt.show()"
   ]
  },
  {
   "cell_type": "markdown",
   "id": "0bbeb078",
   "metadata": {},
   "source": [
    "from the above plots we can see TV and radio has good relationship with the sales,no of TV and radio increase sales also increases so tv and radio has good relationship with the sales, the data in the newspaper is not following particular pattern so we cannot say it is has relationship with the sales or not "
   ]
  },
  {
   "cell_type": "code",
   "execution_count": 12,
   "id": "cd630a83",
   "metadata": {},
   "outputs": [],
   "source": [
    "corr=data.corr()"
   ]
  },
  {
   "cell_type": "code",
   "execution_count": 13,
   "id": "eb7013bf",
   "metadata": {},
   "outputs": [
    {
     "data": {
      "text/plain": [
       "<AxesSubplot:>"
      ]
     },
     "execution_count": 13,
     "metadata": {},
     "output_type": "execute_result"
    },
    {
     "data": {
      "image/png": "[encoded data removed]",
      "text/plain": [
       "<Figure size 432x288 with 2 Axes>"
      ]
     },
     "metadata": {
      "needs_background": "light"
     },
     "output_type": "display_data"
    }
   ],
   "source": [
    "sns.heatmap(corr,annot=True)"
   ]
  },
  {
   "cell_type": "markdown",
   "id": "dde14272",
   "metadata": {},
   "source": [
    "Tv has high corelation with the target variable and radio also,but news paper has less correlation with the sales but newspaper is contributing something so we cannot say it is not usefull feature, but we do some more analysis to select best features, "
   ]
  },
  {
   "cell_type": "code",
   "execution_count": 22,
   "id": "774ce056",
   "metadata": {},
   "outputs": [
    {
     "data": {
      "text/plain": [
       "TV          -0.069853\n",
       "radio        0.094175\n",
       "newspaper    0.894720\n",
       "sales        0.407571\n",
       "dtype: float64"
      ]
     },
     "execution_count": 22,
     "metadata": {},
     "output_type": "execute_result"
    }
   ],
   "source": [
    "data.skew()"
   ]
  },
  {
   "cell_type": "markdown",
   "id": "ee79a87b",
   "metadata": {},
   "source": [
    "newspaper has some skewed data we"
   ]
  },
  {
   "cell_type": "code",
   "execution_count": 24,
   "id": "aa9cb426",
   "metadata": {},
   "outputs": [
    {
     "data": {
      "text/plain": [
       "<AxesSubplot:xlabel='newspaper'>"
      ]
     },
     "execution_count": 24,
     "metadata": {},
     "output_type": "execute_result"
    },
    {
     "data": {
      "image/png": "[encoded data removed]",
      "text/plain": [
       "<Figure size 432x288 with 1 Axes>"
      ]
     },
     "metadata": {
      "needs_background": "light"
     },
     "output_type": "display_data"
    }
   ],
   "source": [
    "sns.boxplot(data['newspaper'])"
   ]
  },
  {
   "cell_type": "code",
   "execution_count": 11,
   "id": "63cda553",
   "metadata": {},
   "outputs": [],
   "source": [
    "#to remove skewness by using zscore\n",
    "\n",
    "from scipy.stats import zscore\n",
    "\n",
    "z=zscore(data[['newspaper']])\n",
    "\n",
    "abs_z_score=np.abs(z)\n",
    "\n",
    "filtering_entry=(abs_z_score<3).all(axis=1)\n",
    "\n",
    "data=data[filtering_entry]"
   ]
  },
  {
   "cell_type": "code",
   "execution_count": 12,
   "id": "cd19536c",
   "metadata": {},
   "outputs": [
    {
     "data": {
      "text/plain": [
       "0.650111551724088"
      ]
     },
     "execution_count": 12,
     "metadata": {},
     "output_type": "execute_result"
    }
   ],
   "source": [
    "data['newspaper'].skew() #skewness is decreased"
   ]
  },
  {
   "cell_type": "code",
   "execution_count": 13,
   "id": "70278a8f",
   "metadata": {},
   "outputs": [],
   "source": [
    "#divide the data into dependent and independent variables\n",
    "x=data.drop(columns=['sales'])\n",
    "y=data['sales']"
   ]
  },
  {
   "cell_type": "code",
   "execution_count": 22,
   "id": "2619d0e7",
   "metadata": {},
   "outputs": [],
   "source": [
    "from sklearn.linear_model import LinearRegression\n",
    "\n",
    "lm=LinearRegression()"
   ]
  },
  {
   "cell_type": "code",
   "execution_count": 23,
   "id": "dcde5e15",
   "metadata": {},
   "outputs": [
    {
     "data": {
      "text/plain": [
       "LinearRegression()"
      ]
     },
     "execution_count": 23,
     "metadata": {},
     "output_type": "execute_result"
    }
   ],
   "source": [
    "lm.fit(x,y)"
   ]
  },
  {
   "cell_type": "code",
   "execution_count": 16,
   "id": "040b1232",
   "metadata": {},
   "outputs": [
    {
     "data": {
      "text/html": [
       "<table class=\"simpletable\">\n",
       "<caption>OLS Regression Results</caption>\n",
       "<tr>\n",
       "  <th>Dep. Variable:</th>          <td>sales</td>      <th>  R-squared:         </th> <td>   0.895</td>\n",
       "</tr>\n",
       "<tr>\n",
       "  <th>Model:</th>                   <td>OLS</td>       <th>  Adj. R-squared:    </th> <td>   0.894</td>\n",
       "</tr>\n",
       "<tr>\n",
       "  <th>Method:</th>             <td>Least Squares</td>  <th>  F-statistic:       </th> <td>   553.5</td>\n",
       "</tr>\n",
       "<tr>\n",
       "  <th>Date:</th>             <td>Sun, 27 Feb 2022</td> <th>  Prob (F-statistic):</th> <td>8.35e-95</td>\n",
       "</tr>\n",
       "<tr>\n",
       "  <th>Time:</th>                 <td>00:38:02</td>     <th>  Log-Likelihood:    </th> <td> -383.24</td>\n",
       "</tr>\n",
       "<tr>\n",
       "  <th>No. Observations:</th>      <td>   198</td>      <th>  AIC:               </th> <td>   774.5</td>\n",
       "</tr>\n",
       "<tr>\n",
       "  <th>Df Residuals:</th>          <td>   194</td>      <th>  BIC:               </th> <td>   787.6</td>\n",
       "</tr>\n",
       "<tr>\n",
       "  <th>Df Model:</th>              <td>     3</td>      <th>                     </th>     <td> </td>   \n",
       "</tr>\n",
       "<tr>\n",
       "  <th>Covariance Type:</th>      <td>nonrobust</td>    <th>                     </th>     <td> </td>   \n",
       "</tr>\n",
       "</table>\n",
       "<table class=\"simpletable\">\n",
       "<tr>\n",
       "      <td></td>         <th>coef</th>     <th>std err</th>      <th>t</th>      <th>P>|t|</th>  <th>[0.025</th>    <th>0.975]</th>  \n",
       "</tr>\n",
       "<tr>\n",
       "  <th>Intercept</th> <td>    2.9523</td> <td>    0.318</td> <td>    9.280</td> <td> 0.000</td> <td>    2.325</td> <td>    3.580</td>\n",
       "</tr>\n",
       "<tr>\n",
       "  <th>TV</th>        <td>    0.0457</td> <td>    0.001</td> <td>   32.293</td> <td> 0.000</td> <td>    0.043</td> <td>    0.048</td>\n",
       "</tr>\n",
       "<tr>\n",
       "  <th>radio</th>     <td>    0.1886</td> <td>    0.009</td> <td>   21.772</td> <td> 0.000</td> <td>    0.171</td> <td>    0.206</td>\n",
       "</tr>\n",
       "<tr>\n",
       "  <th>newspaper</th> <td>   -0.0012</td> <td>    0.006</td> <td>   -0.187</td> <td> 0.852</td> <td>   -0.014</td> <td>    0.011</td>\n",
       "</tr>\n",
       "</table>\n",
       "<table class=\"simpletable\">\n",
       "<tr>\n",
       "  <th>Omnibus:</th>       <td>59.593</td> <th>  Durbin-Watson:     </th> <td>   2.041</td>\n",
       "</tr>\n",
       "<tr>\n",
       "  <th>Prob(Omnibus):</th> <td> 0.000</td> <th>  Jarque-Bera (JB):  </th> <td> 147.654</td>\n",
       "</tr>\n",
       "<tr>\n",
       "  <th>Skew:</th>          <td>-1.324</td> <th>  Prob(JB):          </th> <td>8.66e-33</td>\n",
       "</tr>\n",
       "<tr>\n",
       "  <th>Kurtosis:</th>      <td> 6.299</td> <th>  Cond. No.          </th> <td>    457.</td>\n",
       "</tr>\n",
       "</table><br/><br/>Notes:<br/>[1] Standard Errors assume that the covariance matrix of the errors is correctly specified."
      ],
      "text/plain": [
       "<class 'statsmodels.iolib.summary.Summary'>\n",
       "\"\"\"\n",
       "                            OLS Regression Results                            \n",
       "==============================================================================\n",
       "Dep. Variable:                  sales   R-squared:                       0.895\n",
       "Model:                            OLS   Adj. R-squared:                  0.894\n",
       "Method:                 Least Squares   F-statistic:                     553.5\n",
       "Date:                Sun, 27 Feb 2022   Prob (F-statistic):           8.35e-95\n",
       "Time:                        00:38:02   Log-Likelihood:                -383.24\n",
       "No. Observations:                 198   AIC:                             774.5\n",
       "Df Residuals:                     194   BIC:                             787.6\n",
       "Df Model:                           3                                         \n",
       "Covariance Type:            nonrobust                                         \n",
       "==============================================================================\n",
       "                 coef    std err          t      P>|t|      [0.025      0.975]\n",
       "------------------------------------------------------------------------------\n",
       "Intercept      2.9523      0.318      9.280      0.000       2.325       3.580\n",
       "TV             0.0457      0.001     32.293      0.000       0.043       0.048\n",
       "radio          0.1886      0.009     21.772      0.000       0.171       0.206\n",
       "newspaper     -0.0012      0.006     -0.187      0.852      -0.014       0.011\n",
       "==============================================================================\n",
       "Omnibus:                       59.593   Durbin-Watson:                   2.041\n",
       "Prob(Omnibus):                  0.000   Jarque-Bera (JB):              147.654\n",
       "Skew:                          -1.324   Prob(JB):                     8.66e-33\n",
       "Kurtosis:                       6.299   Cond. No.                         457.\n",
       "==============================================================================\n",
       "\n",
       "Notes:\n",
       "[1] Standard Errors assume that the covariance matrix of the errors is correctly specified.\n",
       "\"\"\""
      ]
     },
     "execution_count": 16,
     "metadata": {},
     "output_type": "execute_result"
    }
   ],
   "source": [
    "#hypothesis testing\n",
    "import statsmodels.formula.api as smf  \n",
    "lm=smf.ols(formula='sales ~ TV+radio+newspaper',data=data).fit()\n",
    "lm.summary()"
   ]
  },
  {
   "cell_type": "markdown",
   "id": "1d034923",
   "metadata": {},
   "source": [
    "coef of TV and radio are in +ve it means this +ve values indicates that increasing the value of TV and radio then sales aslo increase but in the newspaper coef value is in -ve it indicates that value or investment is increase sales are not increase and also sales may decrease,and also we can see p-value of newspaper is more than 0.05 so we fail to reject the null hypothesis,i.e there is no relationship between newspaper and sales,so we remove the 'newspaper' feature,clearly we conclude that investment in the newspaper is not good."
   ]
  },
  {
   "cell_type": "code",
   "execution_count": 17,
   "id": "5b1b2155",
   "metadata": {},
   "outputs": [],
   "source": [
    "x.drop(columns=['newspaper'],inplace=True)\n"
   ]
  },
  {
   "cell_type": "code",
   "execution_count": 18,
   "id": "cc004b4d",
   "metadata": {},
   "outputs": [
    {
     "data": {
      "text/html": [
       "<div>\n",
       "<style scoped>\n",
       "    .dataframe tbody tr th:only-of-type {\n",
       "        vertical-align: middle;\n",
       "    }\n",
       "\n",
       "    .dataframe tbody tr th {\n",
       "        vertical-align: top;\n",
       "    }\n",
       "\n",
       "    .dataframe thead th {\n",
       "        text-align: right;\n",
       "    }\n",
       "</style>\n",
       "<table border=\"1\" class=\"dataframe\">\n",
       "  <thead>\n",
       "    <tr style=\"text-align: right;\">\n",
       "      <th></th>\n",
       "      <th>TV</th>\n",
       "      <th>radio</th>\n",
       "    </tr>\n",
       "  </thead>\n",
       "  <tbody>\n",
       "    <tr>\n",
       "      <th>0</th>\n",
       "      <td>230.1</td>\n",
       "      <td>37.8</td>\n",
       "    </tr>\n",
       "    <tr>\n",
       "      <th>1</th>\n",
       "      <td>44.5</td>\n",
       "      <td>39.3</td>\n",
       "    </tr>\n",
       "    <tr>\n",
       "      <th>2</th>\n",
       "      <td>17.2</td>\n",
       "      <td>45.9</td>\n",
       "    </tr>\n",
       "    <tr>\n",
       "      <th>3</th>\n",
       "      <td>151.5</td>\n",
       "      <td>41.3</td>\n",
       "    </tr>\n",
       "    <tr>\n",
       "      <th>4</th>\n",
       "      <td>180.8</td>\n",
       "      <td>10.8</td>\n",
       "    </tr>\n",
       "    <tr>\n",
       "      <th>...</th>\n",
       "      <td>...</td>\n",
       "      <td>...</td>\n",
       "    </tr>\n",
       "    <tr>\n",
       "      <th>195</th>\n",
       "      <td>38.2</td>\n",
       "      <td>3.7</td>\n",
       "    </tr>\n",
       "    <tr>\n",
       "      <th>196</th>\n",
       "      <td>94.2</td>\n",
       "      <td>4.9</td>\n",
       "    </tr>\n",
       "    <tr>\n",
       "      <th>197</th>\n",
       "      <td>177.0</td>\n",
       "      <td>9.3</td>\n",
       "    </tr>\n",
       "    <tr>\n",
       "      <th>198</th>\n",
       "      <td>283.6</td>\n",
       "      <td>42.0</td>\n",
       "    </tr>\n",
       "    <tr>\n",
       "      <th>199</th>\n",
       "      <td>232.1</td>\n",
       "      <td>8.6</td>\n",
       "    </tr>\n",
       "  </tbody>\n",
       "</table>\n",
       "<p>198 rows × 2 columns</p>\n",
       "</div>"
      ],
      "text/plain": [
       "        TV  radio\n",
       "0    230.1   37.8\n",
       "1     44.5   39.3\n",
       "2     17.2   45.9\n",
       "3    151.5   41.3\n",
       "4    180.8   10.8\n",
       "..     ...    ...\n",
       "195   38.2    3.7\n",
       "196   94.2    4.9\n",
       "197  177.0    9.3\n",
       "198  283.6   42.0\n",
       "199  232.1    8.6\n",
       "\n",
       "[198 rows x 2 columns]"
      ]
     },
     "execution_count": 18,
     "metadata": {},
     "output_type": "execute_result"
    }
   ],
   "source": [
    "x"
   ]
  },
  {
   "cell_type": "code",
   "execution_count": 19,
   "id": "82750271",
   "metadata": {},
   "outputs": [],
   "source": [
    "#scaling the data byusing Minmaxscaler\n",
    "from sklearn.preprocessing import MinMaxScaler\n",
    "scaler=MinMaxScaler()\n",
    "x=scaler.fit_transform(x)"
   ]
  },
  {
   "cell_type": "code",
   "execution_count": 30,
   "id": "e5b4d581",
   "metadata": {},
   "outputs": [
    {
     "data": {
      "text/plain": [
       "LinearRegression()"
      ]
     },
     "execution_count": 30,
     "metadata": {},
     "output_type": "execute_result"
    }
   ],
   "source": [
    "from sklearn.model_selection import train_test_split,cross_val_score\n",
    "from sklearn.metrics import r2_score\n",
    "lm.fit(x,y) # again instantiate independent variables to the model because newspaper has been removed"
   ]
  },
  {
   "cell_type": "code",
   "execution_count": 31,
   "id": "e27a2679",
   "metadata": {},
   "outputs": [
    {
     "name": "stdout",
     "output_type": "stream",
     "text": [
      "max r2score is 0.9478525634614251 on random state of 90\n"
     ]
    }
   ],
   "source": [
    "Maxaccu=0\n",
    "maxrs=0\n",
    "\n",
    "for i in range(1,200):\n",
    "    x_train,x_test,y_train,y_test=train_test_split(x,y,test_size=0.2,random_state=i)\n",
    "    lm.fit(x_train,y_train)\n",
    "    predx=lm.predict(x_test)\n",
    "    acc=r2_score(y_test,predx)\n",
    "    if acc>Maxaccu:\n",
    "        Maxaccu=acc\n",
    "        maxrs=i\n",
    "        \n",
    "print('max r2score is',Maxaccu,'on random state of',maxrs)\n",
    "        "
   ]
  },
  {
   "cell_type": "code",
   "execution_count": 32,
   "id": "d118eb97",
   "metadata": {},
   "outputs": [],
   "source": [
    "#random state of 151 is giving best accuracy score\n",
    "x_train,x_test,y_train,y_test=train_test_split(x,y, test_size=0.2,random_state=94)"
   ]
  },
  {
   "cell_type": "code",
   "execution_count": 36,
   "id": "862a426f",
   "metadata": {},
   "outputs": [],
   "source": [
    "def print_score(clf,x_train,x_test,y_train,y_test,train=True):\n",
    "    if train:\n",
    "        y_pred=clf.predict(x_train)\n",
    "        print('=======train results===========')\n",
    "        print(f'accuracy score:{r2_score(y_train,y_pred)*100:2f}%')\n",
    "        print('\\n')\n",
    "   \n",
    "    elif train==False:\n",
    "        pred=clf.predict(x_test)\n",
    "        print('=======test results=========')\n",
    "        print(f\"r2score is:{r2_score(y_test,pred)*100:2f}%\")\n",
    "        print('\\n')\n",
    "        \n",
    "def kfolds(clf, clf_name):\n",
    "    clf = cross_val_score(clf, x,y, cv=10)\n",
    "    clf_score = np.average(clf)\n",
    "    print(f\"{clf_name} score on cross validation: {clf_score * 100}%\")"
   ]
  },
  {
   "cell_type": "code",
   "execution_count": 37,
   "id": "3c936d87",
   "metadata": {},
   "outputs": [
    {
     "name": "stdout",
     "output_type": "stream",
     "text": [
      "=======train results===========\n",
      "accuracy score:90.332756%\n",
      "\n",
      "\n",
      "=======test results=========\n",
      "r2score is:86.908215%\n",
      "\n",
      "\n",
      "linearregression score on cross validation: 88.67857155409352%\n"
     ]
    }
   ],
   "source": [
    "#linear regression\n",
    "lm=LinearRegression()\n",
    "lm.fit(x_train,y_train)\n",
    "\n",
    "print_score(lm,x_train,x_test,y_train,y_test,train=True)\n",
    "print_score(lm,x_train,x_test,y_train,y_test,train=False)\n",
    "kfolds(lm,'linearregression')"
   ]
  },
  {
   "cell_type": "code",
   "execution_count": 39,
   "id": "af218c37",
   "metadata": {},
   "outputs": [
    {
     "name": "stdout",
     "output_type": "stream",
     "text": [
      "=======train results===========\n",
      "accuracy score:99.760710%\n",
      "\n",
      "\n",
      "=======test results=========\n",
      "r2score is:97.715891%\n",
      "\n",
      "\n",
      "RandomForestRegressor score on cross validation: 98.15758866072834%\n"
     ]
    }
   ],
   "source": [
    "#random Forest\n",
    "from sklearn.ensemble import RandomForestRegressor\n",
    "rfc=RandomForestRegressor()\n",
    "rfc.fit(x_train,y_train)\n",
    "\n",
    "print_score(rfc,x_train,x_test,y_train,y_test,train=True)\n",
    "print_score(rfc,x_train,x_test,y_train,y_test,train=False)\n",
    "\n",
    "kfolds(rfc,'RandomForestRegressor')"
   ]
  },
  {
   "cell_type": "code",
   "execution_count": 40,
   "id": "12d0b318",
   "metadata": {},
   "outputs": [
    {
     "name": "stdout",
     "output_type": "stream",
     "text": [
      "=======train results===========\n",
      "accuracy score:99.869734%\n",
      "\n",
      "\n",
      "=======test results=========\n",
      "r2score is:97.545468%\n",
      "\n",
      "\n",
      "GradientBoostingRegressor score on cross validation: 98.06026820082397%\n"
     ]
    }
   ],
   "source": [
    "#GradientBoostingRegressor\n",
    "from sklearn.ensemble import GradientBoostingRegressor\n",
    "gbr=GradientBoostingRegressor()\n",
    "gbr.fit(x_train,y_train)\n",
    "\n",
    "print_score(gbr,x_train,x_test,y_train,y_test,train=True)\n",
    "print_score(gbr,x_train,x_test,y_train,y_test,train=False)\n",
    "\n",
    "kfolds(gbr,'GradientBoostingRegressor')"
   ]
  },
  {
   "cell_type": "code",
   "execution_count": 41,
   "id": "3de804c8",
   "metadata": {},
   "outputs": [
    {
     "name": "stdout",
     "output_type": "stream",
     "text": [
      "=======train results===========\n",
      "accuracy score:99.656029%\n",
      "\n",
      "\n",
      "=======test results=========\n",
      "r2score is:97.326641%\n",
      "\n",
      "\n",
      "BaggingRegressor score on cross validation: 97.6537939654027%\n"
     ]
    }
   ],
   "source": [
    "#BaggingRegressor\n",
    "from sklearn.ensemble import BaggingRegressor\n",
    "bgr=BaggingRegressor()\n",
    "bgr.fit(x_train,y_train)\n",
    "\n",
    "print_score(bgr,x_train,x_test,y_train,y_test,train=True)\n",
    "print_score(bgr,x_train,x_test,y_train,y_test,train=False)\n",
    "\n",
    "kfolds(bgr,'BaggingRegressor')"
   ]
  },
  {
   "cell_type": "code",
   "execution_count": 42,
   "id": "518e9052",
   "metadata": {},
   "outputs": [
    {
     "name": "stdout",
     "output_type": "stream",
     "text": [
      "=======train results===========\n",
      "accuracy score:100.000000%\n",
      "\n",
      "\n",
      "=======test results=========\n",
      "r2score is:97.921866%\n",
      "\n",
      "\n",
      "DecisionTreeRegressor score on cross validation: 96.53493929761734%\n"
     ]
    }
   ],
   "source": [
    "#DecisionTreeRegressor\n",
    "from sklearn.tree import DecisionTreeRegressor\n",
    "dtr=DecisionTreeRegressor()\n",
    "dtr.fit(x_train,y_train)\n",
    "\n",
    "print_score(dtr,x_train,x_test,y_train,y_test,train=True)\n",
    "print_score(dtr,x_train,x_test,y_train,y_test,train=False)\n",
    "\n",
    "kfolds(dtr,'DecisionTreeRegressor')"
   ]
  },
  {
   "cell_type": "code",
   "execution_count": 43,
   "id": "84f04b93",
   "metadata": {},
   "outputs": [
    {
     "name": "stdout",
     "output_type": "stream",
     "text": [
      "=======train results===========\n",
      "accuracy score:100.000000%\n",
      "\n",
      "\n",
      "=======test results=========\n",
      "r2score is:97.921866%\n",
      "\n",
      "\n",
      "XGBRegressor score on cross validation: 97.76219684408144%\n"
     ]
    }
   ],
   "source": [
    "from xgboost import XGBRegressor\n",
    "xgbr=XGBRegressor()\n",
    "xgbr.fit(x_train,y_train)\n",
    "\n",
    "print_score(dtr,x_train,x_test,y_train,y_test,train=True)\n",
    "print_score(dtr,x_train,x_test,y_train,y_test,train=False)\n",
    "\n",
    "kfolds(xgbr,'XGBRegressor')"
   ]
  },
  {
   "cell_type": "code",
   "execution_count": null,
   "id": "ccb64078",
   "metadata": {},
   "outputs": [],
   "source": [
    "#random Forest regressor gives best score "
   ]
  },
  {
   "cell_type": "code",
   "execution_count": 44,
   "id": "c8fb9c8c",
   "metadata": {},
   "outputs": [],
   "source": [
    "y_pred=rfc.predict(x_train)\n",
    "pred=rfc.predict(x_test)"
   ]
  },
  {
   "cell_type": "code",
   "execution_count": 45,
   "id": "7b588db1",
   "metadata": {},
   "outputs": [
    {
     "name": "stdout",
     "output_type": "stream",
     "text": [
      "mean absolute error is: 0.5676249999999979\n",
      "\n",
      "\n",
      "mean squared error is: 0.7435515249999973\n",
      "\n",
      "\n",
      "Root mean suared error is: 0.8622943377988732\n"
     ]
    }
   ],
   "source": [
    "from sklearn.metrics import mean_absolute_error,mean_squared_error\n",
    "print('mean absolute error is:',mean_absolute_error(y_test,pred))\n",
    "print('\\n')\n",
    "print('mean squared error is:',mean_squared_error(y_test,pred))\n",
    "print('\\n')\n",
    "print('Root mean suared error is:',np.sqrt(mean_squared_error(y_test,pred)))"
   ]
  },
  {
   "cell_type": "code",
   "execution_count": 46,
   "id": "2fdf4375",
   "metadata": {},
   "outputs": [
    {
     "data": {
      "image/png": "[encoded data removed]",
      "text/plain": [
       "<Figure size 504x360 with 1 Axes>"
      ]
     },
     "metadata": {
      "needs_background": "light"
     },
     "output_type": "display_data"
    }
   ],
   "source": [
    "plt.figure(figsize=(7,5))\n",
    "plt.scatter(x=y_test,y=pred,color='green')\n",
    "plt.plot(y_test,y_test,color='orange')\n",
    "plt.xlabel('actual sales')\n",
    "plt.ylabel('predicted sales')\n",
    "plt.title('linear regression')\n",
    "plt.show()"
   ]
  },
  {
   "cell_type": "code",
   "execution_count": 47,
   "id": "d9924ec5",
   "metadata": {},
   "outputs": [
    {
     "name": "stdout",
     "output_type": "stream",
     "text": [
      "{'alpha': 0.001, 'random_state': 1}\n"
     ]
    }
   ],
   "source": [
    "#regularization\n",
    "from sklearn.model_selection import GridSearchCV\n",
    "from sklearn.linear_model import Lasso\n",
    "parameters={'alpha':[0.001,1,0.1],'random_state':[1,3,5,6,7,9,8,10]}\n",
    "ls=Lasso()\n",
    "clf=GridSearchCV(ls,parameters)\n",
    "clf.fit(x_train,y_train)\n",
    "\n",
    "print(clf.best_params_)"
   ]
  },
  {
   "cell_type": "code",
   "execution_count": 48,
   "id": "a1402a35",
   "metadata": {},
   "outputs": [
    {
     "data": {
      "text/plain": [
       "0.8689737202113851"
      ]
     },
     "execution_count": 48,
     "metadata": {},
     "output_type": "execute_result"
    }
   ],
   "source": [
    "ls=Lasso(alpha=0.001,random_state=1)\n",
    "ls.fit(x_train,y_train)\n",
    "ls.score(x_train,y_train)\n",
    "pred_ls=ls.predict(x_test)\n",
    "\n",
    "lss=r2_score(y_test,pred_ls)\n",
    "\n",
    "lss"
   ]
  },
  {
   "cell_type": "code",
   "execution_count": 49,
   "id": "426086f9",
   "metadata": {},
   "outputs": [
    {
     "data": {
      "text/plain": [
       "0.8917335952754487"
      ]
     },
     "execution_count": 49,
     "metadata": {},
     "output_type": "execute_result"
    }
   ],
   "source": [
    "cv_score=cross_val_score(ls,x,y,cv=2).mean()\n",
    "cv_score"
   ]
  },
  {
   "cell_type": "code",
   "execution_count": 50,
   "id": "01e5c6f5",
   "metadata": {},
   "outputs": [
    {
     "name": "stdout",
     "output_type": "stream",
     "text": [
      "{'criterion': 'mae', 'max_features': 'auto'}\n"
     ]
    }
   ],
   "source": [
    "#hyperparameter tunning\n",
    "from sklearn.ensemble import RandomForestRegressor\n",
    "\n",
    "parameters={'criterion':['mse','mae'],'max_features':['auto','sqrt','log2']}\n",
    "rf=RandomForestRegressor()\n",
    "clf=GridSearchCV(rf,parameters)\n",
    "clf.fit(x_train,y_train)\n",
    "\n",
    "print(clf.best_params_)"
   ]
  },
  {
   "cell_type": "code",
   "execution_count": 51,
   "id": "7b06276c",
   "metadata": {},
   "outputs": [
    {
     "name": "stdout",
     "output_type": "stream",
     "text": [
      "r2score 97.77077743212611\n",
      "cross validation score is 97.2137885474915\n"
     ]
    }
   ],
   "source": [
    "rf=RandomForestRegressor(criterion='mae',max_features='auto')\n",
    "rf.fit(x_train,y_train)\n",
    "rf.score(x_train,y_train)\n",
    "\n",
    "pred=rf.predict(x_test)\n",
    "\n",
    "rfs=r2_score(y_test,pred)\n",
    "print('r2score',rfs*100)\n",
    "\n",
    "rfcscore=cross_val_score(rf,x,y,cv=2).mean()\n",
    "print('cross validation score is',rfcscore*100)"
   ]
  },
  {
   "cell_type": "code",
   "execution_count": null,
   "id": "2d99217e",
   "metadata": {},
   "outputs": [],
   "source": [
    "#score is not increased by hyperparameter tunning"
   ]
  },
  {
   "cell_type": "code",
   "execution_count": 52,
   "id": "4515ccd2",
   "metadata": {},
   "outputs": [],
   "source": [
    "#save the model\n",
    "import pickle\n",
    "filename='advertising_sales.pkl'\n",
    "pickle.dump(rf,open(filename,'wb'))"
   ]
  },
  {
   "cell_type": "code",
   "execution_count": 53,
   "id": "0a56148e",
   "metadata": {},
   "outputs": [
    {
     "name": "stdout",
     "output_type": "stream",
     "text": [
      "0.9777077743212611\n"
     ]
    }
   ],
   "source": [
    "#conclusion\n",
    "loaded_model= pickle.load(open('advertising_sales.pkl', 'rb'))\n",
    "results=loaded_model.score(x_test,y_test)\n",
    "print(results)"
   ]
  },
  {
   "cell_type": "code",
   "execution_count": 54,
   "id": "3ab07974",
   "metadata": {},
   "outputs": [
    {
     "data": {
      "text/html": [
       "<div>\n",
       "<style scoped>\n",
       "    .dataframe tbody tr th:only-of-type {\n",
       "        vertical-align: middle;\n",
       "    }\n",
       "\n",
       "    .dataframe tbody tr th {\n",
       "        vertical-align: top;\n",
       "    }\n",
       "\n",
       "    .dataframe thead th {\n",
       "        text-align: right;\n",
       "    }\n",
       "</style>\n",
       "<table border=\"1\" class=\"dataframe\">\n",
       "  <thead>\n",
       "    <tr style=\"text-align: right;\">\n",
       "      <th></th>\n",
       "      <th>0</th>\n",
       "      <th>1</th>\n",
       "      <th>2</th>\n",
       "      <th>3</th>\n",
       "      <th>4</th>\n",
       "      <th>5</th>\n",
       "      <th>6</th>\n",
       "      <th>7</th>\n",
       "      <th>8</th>\n",
       "      <th>9</th>\n",
       "      <th>...</th>\n",
       "      <th>30</th>\n",
       "      <th>31</th>\n",
       "      <th>32</th>\n",
       "      <th>33</th>\n",
       "      <th>34</th>\n",
       "      <th>35</th>\n",
       "      <th>36</th>\n",
       "      <th>37</th>\n",
       "      <th>38</th>\n",
       "      <th>39</th>\n",
       "    </tr>\n",
       "  </thead>\n",
       "  <tbody>\n",
       "    <tr>\n",
       "      <th>predicted</th>\n",
       "      <td>9.754</td>\n",
       "      <td>11.6545</td>\n",
       "      <td>14.473</td>\n",
       "      <td>11.669</td>\n",
       "      <td>13.257</td>\n",
       "      <td>20.104</td>\n",
       "      <td>12.404</td>\n",
       "      <td>11.738</td>\n",
       "      <td>22.737</td>\n",
       "      <td>17.225</td>\n",
       "      <td>...</td>\n",
       "      <td>5.704</td>\n",
       "      <td>7.11</td>\n",
       "      <td>11.988</td>\n",
       "      <td>11.3525</td>\n",
       "      <td>5.836</td>\n",
       "      <td>10.06</td>\n",
       "      <td>15.697</td>\n",
       "      <td>25.349</td>\n",
       "      <td>5.366</td>\n",
       "      <td>14.044</td>\n",
       "    </tr>\n",
       "    <tr>\n",
       "      <th>original</th>\n",
       "      <td>9.754</td>\n",
       "      <td>11.6545</td>\n",
       "      <td>14.473</td>\n",
       "      <td>11.669</td>\n",
       "      <td>13.257</td>\n",
       "      <td>20.104</td>\n",
       "      <td>12.404</td>\n",
       "      <td>11.738</td>\n",
       "      <td>22.737</td>\n",
       "      <td>17.225</td>\n",
       "      <td>...</td>\n",
       "      <td>5.704</td>\n",
       "      <td>7.11</td>\n",
       "      <td>11.988</td>\n",
       "      <td>11.3525</td>\n",
       "      <td>5.836</td>\n",
       "      <td>10.06</td>\n",
       "      <td>15.697</td>\n",
       "      <td>25.349</td>\n",
       "      <td>5.366</td>\n",
       "      <td>14.044</td>\n",
       "    </tr>\n",
       "  </tbody>\n",
       "</table>\n",
       "<p>2 rows × 40 columns</p>\n",
       "</div>"
      ],
      "text/plain": [
       "              0        1       2       3       4       5       6       7   \\\n",
       "predicted  9.754  11.6545  14.473  11.669  13.257  20.104  12.404  11.738   \n",
       "original   9.754  11.6545  14.473  11.669  13.257  20.104  12.404  11.738   \n",
       "\n",
       "               8       9   ...     30    31      32       33     34     35  \\\n",
       "predicted  22.737  17.225  ...  5.704  7.11  11.988  11.3525  5.836  10.06   \n",
       "original   22.737  17.225  ...  5.704  7.11  11.988  11.3525  5.836  10.06   \n",
       "\n",
       "               36      37     38      39  \n",
       "predicted  15.697  25.349  5.366  14.044  \n",
       "original   15.697  25.349  5.366  14.044  \n",
       "\n",
       "[2 rows x 40 columns]"
      ]
     },
     "execution_count": 54,
     "metadata": {},
     "output_type": "execute_result"
    }
   ],
   "source": [
    "conclusion=pd.DataFrame([loaded_model.predict(x_test)[:],pred[:]],index=[\"predicted\",\"original\"])\n",
    "conclusion"
   ]
  },
  {
   "cell_type": "code",
   "execution_count": null,
   "id": "b0d5def1",
   "metadata": {},
   "outputs": [],
   "source": []
  }
 ],
 "metadata": {
  "kernelspec": {
   "display_name": "Python 3",
   "language": "python",
   "name": "python3"
  },
  "language_info": {
   "codemirror_mode": {
    "name": "ipython",
    "version": 3
   },
   "file_extension": ".py",
   "mimetype": "text/x-python",
   "name": "python",
   "nbconvert_exporter": "python",
   "pygments_lexer": "ipython3",
   "version": "3.8.8"
  }
 },
 "nbformat": 4,
 "nbformat_minor": 5
}
